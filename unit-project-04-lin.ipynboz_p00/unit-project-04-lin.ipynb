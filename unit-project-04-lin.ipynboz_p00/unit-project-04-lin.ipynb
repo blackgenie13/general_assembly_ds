{
 "cells": [
  {
   "cell_type": "markdown",
   "metadata": {},
   "source": [
    "# SF-DAT-21 | Unit Project 4\n",
    "\n",
    "In this project, you will summarize and present your analysis from Unit Projects 1-3."
   ]
  },
  {
   "cell_type": "markdown",
   "metadata": {},
   "source": [
    "### Question 1. Introduction: Write a problem Statement/Specific Aim for this project."
   ]
  },
  {
   "cell_type": "markdown",
   "metadata": {},
   "source": [
    "Answer: Using a small sample size of UCLA Admission dataset from an unknown timeframe - we aim to predict whether an aplicant would get admitted into the school based on application information of GRE Score (quantitative), GPA (quantitative), and Prestige Rating (qualitative, subjective)."
   ]
  },
  {
   "cell_type": "markdown",
   "metadata": {},
   "source": [
    "### Question 2. Dataset: Write up a description of your data and any cleaning that was completed."
   ]
  },
  {
   "cell_type": "markdown",
   "metadata": {},
   "source": [
    "* Drop the data points that contains null value(s) in any of the predictors\n",
    "* Created dummy variable for the categorical variable \"Prestige\"\n",
    "* Subsequently, we dropped the original \"Prestige\" varible\n",
    "* Finally, we created an intercept column with values of 1.0"
   ]
  },
  {
   "cell_type": "markdown",
   "metadata": {
    "collapsed": true
   },
   "source": [
    "### Question 3. Demo: Provide a table that explains the data by admission status."
   ]
  },
  {
   "cell_type": "markdown",
   "metadata": {},
   "source": [
    "Mean (STD) or counts by admission status for each variable\n",
    "\n",
    "| Not Admitted | Admitted\n",
    "---| ---|---\n",
    "GPA | 3.347159(std) | 3.489206(std)\n",
    "GRE | 573.5279(std) | 618.5714(std)\n",
    "Prestige 1 | 28 (45.90%) | 33 (54.10%)\n",
    "Prestige 2 | 95 (64.19%) | 53 (35.81%)\n",
    "Prestige 3 | 93 (76.86%) | 28 (23.14%)\n",
    "Prestige 4 | 55 (82.09%) | 12 (17.91%)"
   ]
  },
  {
   "cell_type": "markdown",
   "metadata": {},
   "source": [
    "A 3D scatter plot is presented here.  Note that blue denoted not admitted, and red denoted being admitted.  We see more admission at the higher GPA and GRE scores.\n",
    "<img src='assets/scatterplot.PNG' height= 100% width= 100%>"
   ]
  },
  {
   "cell_type": "markdown",
   "metadata": {},
   "source": [
    "<img src='assets/scatter.png' height= 75% width= 75%>\n",
    "<img src='assets/corr.png' height= 50% width= 50%>\n",
    "Note that none of the correlation exceed 0.5."
   ]
  },
  {
   "cell_type": "markdown",
   "metadata": {},
   "source": [
    "### Question 4. Methods: Write up the methods used in your analysis."
   ]
  },
  {
   "cell_type": "markdown",
   "metadata": {},
   "source": [
    "Answer: We fit the entire dataset (without breaking it into Training and Testing sets) to a logistic regression model using all of the predictors (while leaving one dummy variable Prestige_1.0 out of course)."
   ]
  },
  {
   "cell_type": "markdown",
   "metadata": {},
   "source": [
    "### Question 5. Results: Write up your results."
   ]
  },
  {
   "cell_type": "markdown",
   "metadata": {},
   "source": [
    "Answer:\n",
    "* All predictors are significant using alpha=0.05, including intercept.\n",
    "\n",
    "| Coefficient | Std Error\n",
    "---| ---|---\n",
    "GPA | 0.0022 | 0.001\n",
    "GRE | 0.7793 | 0.333\n",
    "Prestige 2 | -0.6801 | 0.137\n",
    "Prestige 3 | -1.3387 | 0.345\n",
    "Prestige 4 | -1.5534 | 0.417\n",
    "Intercept | -3.8769 | 1.142"
   ]
  },
  {
   "cell_type": "markdown",
   "metadata": {},
   "source": [
    "### Question 6. Visuals: Provide a table or visualization of these results."
   ]
  },
  {
   "cell_type": "markdown",
   "metadata": {},
   "source": [
    "Here's the predicted (estimated) mean admission probability given GPA and GRE Scores.  As one can see, holding prestige equal - the higher the gpa and/or gre score, the more likly a person will get admitted.\n",
    "<img src='assets/meanprob.png' height= 100% width= 100%>"
   ]
  },
  {
   "cell_type": "markdown",
   "metadata": {},
   "source": [
    "Here's the mean admission probabilities of each prestiage ranking.  As one can see, the higher the ranking (1 being the highest and 4 being the lowest), the more likely a person would get admitted (all else being equal).\n",
    "<img src='assets/prestprob.PNG' height= 100% width= 100%>"
   ]
  },
  {
   "cell_type": "markdown",
   "metadata": {},
   "source": [
    "### question 7. Discussion: Write up your discussion and future steps."
   ]
  },
  {
   "cell_type": "markdown",
   "metadata": {},
   "source": [
    "Future Steps:\n",
    "* Larger sample should be obtained and broken into training and testing sets for more confident prediction.\n",
    "* Other classification models should be tried to predict.\n",
    "* Given the data and the visualization - there's very likely interaction among the three predictors; hence this should also be investigaged.\n",
    "* Non-linear relationship should also be look at, but it doesn't seem to be crutial as the other steps listed above."
   ]
  },
  {
   "cell_type": "code",
   "execution_count": null,
   "metadata": {
    "collapsed": true
   },
   "outputs": [],
   "source": []
  }
 ],
 "metadata": {
  "kernelspec": {
   "display_name": "Python 2",
   "language": "python",
   "name": "python2"
  },
  "language_info": {
   "codemirror_mode": {
    "name": "ipython",
    "version": 2
   },
   "file_extension": ".py",
   "mimetype": "text/x-python",
   "name": "python",
   "nbconvert_exporter": "python",
   "pygments_lexer": "ipython2",
   "version": "2.7.11"
  }
 },
 "nbformat": 4,
 "nbformat_minor": 0
}
